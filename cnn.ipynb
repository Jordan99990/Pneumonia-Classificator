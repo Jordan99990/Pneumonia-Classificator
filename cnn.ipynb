{
 "cells": [
  {
   "cell_type": "code",
   "execution_count": 8,
   "metadata": {},
   "outputs": [],
   "source": [
    "import warnings\n",
    "import os\n",
    "import tensorflow as tf\n",
    "os.environ['TF_CPP_MIN_LOG_LEVEL'] = '3'\n",
    "warnings.filterwarnings(\"ignore\", category=UserWarning, module='keras.src.trainers.data_adapters.py_dataset_adapter')\n",
    "\n",
    "import keras\n",
    "import numpy as np\n",
    "\n",
    "from keras import layers\n",
    "from tensorflow.keras.preprocessing.image import ImageDataGenerator # type: ignore\n",
    "from keras.models import Model # type: ignore\n",
    "from keras.layers import Input, Conv2D, MaxPooling2D, Flatten, Dense, Dropout # type: ignore\n",
    "from keras.optimizers import Adam # type: ignore\n",
    "from keras.callbacks import ModelCheckpoint, EarlyStopping, ReduceLROnPlateau # type: ignore\n",
    "\n",
    "from sklearn.utils.class_weight import compute_class_weight"
   ]
  },
  {
   "cell_type": "code",
   "execution_count": 9,
   "metadata": {},
   "outputs": [],
   "source": [
    "dataset_path = 'Dataset'"
   ]
  },
  {
   "cell_type": "code",
   "execution_count": 10,
   "metadata": {},
   "outputs": [
    {
     "name": "stdout",
     "output_type": "stream",
     "text": [
      "Found 4686 images belonging to 2 classes.\n",
      "Found 1170 images belonging to 2 classes.\n"
     ]
    }
   ],
   "source": [
    "train_val_datagen = ImageDataGenerator(\n",
    "    rescale=1.0 / 255.0,   \n",
    "    validation_split=0.2 \n",
    ")\n",
    "\n",
    "test_datagen = ImageDataGenerator(rescale=1.0 / 255.0)\n",
    "\n",
    "train_generator = train_val_datagen.flow_from_directory(\n",
    "    dataset_path,\n",
    "    target_size=(224, 224),  \n",
    "    batch_size=32,\n",
    "    class_mode='binary',    \n",
    "    subset='training',     \n",
    "    shuffle=True\n",
    ")\n",
    "\n",
    "validation_generator = train_val_datagen.flow_from_directory(\n",
    "    dataset_path,\n",
    "    target_size=(224, 224),  \n",
    "    batch_size=32,\n",
    "    class_mode='binary',    \n",
    "    subset='validation',   \n",
    "    shuffle=True\n",
    ")"
   ]
  },
  {
   "cell_type": "code",
   "execution_count": 11,
   "metadata": {},
   "outputs": [],
   "source": [
    "def build_cnn():\n",
    "    input_layer = Input(shape=(224, 224, 3))\n",
    "\n",
    "    x = Conv2D(32, (3, 3), activation='relu', padding='same')(input_layer)\n",
    "    x = MaxPooling2D((2, 2))(x)\n",
    "    x = Conv2D(64, (3, 3), activation='relu', padding='same')(x)\n",
    "    x = MaxPooling2D((2, 2))(x)\n",
    "    x = Conv2D(128, (3, 3), activation='relu', padding='same')(x)\n",
    "    x = MaxPooling2D((2, 2))(x)\n",
    "    x = Conv2D(256, (3, 3), activation='relu', padding='same')(x)\n",
    "    x = MaxPooling2D((2, 2))(x)\n",
    "\n",
    "    x = Flatten()(x)\n",
    "    x = Dense(512, activation='relu')(x)\n",
    "    x = Dropout(0.5)(x)\n",
    "    x = Dense(256, activation='relu')(x)\n",
    "    x = Dropout(0.5)(x)\n",
    "    \n",
    "    output_layer = Dense(1, activation='sigmoid')(x)\n",
    "\n",
    "    model = Model(inputs=input_layer, outputs=output_layer)\n",
    "\n",
    "    return model"
   ]
  },
  {
   "cell_type": "code",
   "execution_count": 12,
   "metadata": {},
   "outputs": [],
   "source": [
    "class_indices = train_generator.class_indices\n",
    "class_labels = list(class_indices.keys())\n",
    "\n",
    "class_counts = np.bincount(train_generator.classes)\n",
    "\n",
    "class_weights = compute_class_weight(class_weight='balanced', classes=np.unique(train_generator.classes), y=train_generator.classes)\n",
    "class_weights_dict = dict(enumerate(class_weights))  "
   ]
  },
  {
   "cell_type": "code",
   "execution_count": null,
   "metadata": {},
   "outputs": [],
   "source": [
    "model = build_cnn()\n",
    "\n",
    "initial_learning_rate = 0.001\n",
    "lr_schedule = tf.keras.optimizers.schedules.ExponentialDecay(\n",
    "    initial_learning_rate,\n",
    "    decay_steps=10000,\n",
    "    decay_rate=0.9,\n",
    "    staircase=True\n",
    ")\n",
    "\n",
    "model.compile(\n",
    "    optimizer=Adam(learning_rate=lr_schedule),\n",
    "    loss='binary_crossentropy',\n",
    "    metrics=['accuracy']\n",
    ")\n",
    "\n",
    "checkpoint = ModelCheckpoint(\n",
    "    '/models/best_model.keras', \n",
    "    monitor='val_loss', \n",
    "    save_best_only=True, \n",
    "    mode='min'\n",
    ")\n",
    "early_stopping = EarlyStopping(\n",
    "    monitor='val_loss', \n",
    "    patience=10, \n",
    "    restore_best_weights=True\n",
    ")\n",
    "\n",
    "reduce_lr = ReduceLROnPlateau(\n",
    "    monitor='val_loss', \n",
    "    factor=0.2, \n",
    "    patience=5, \n",
    "    min_lr=0.0001\n",
    ")\n"
   ]
  },
  {
   "cell_type": "code",
   "execution_count": 14,
   "metadata": {},
   "outputs": [
    {
     "name": "stdout",
     "output_type": "stream",
     "text": [
      "Epoch 1/100\n",
      "\u001b[1m147/147\u001b[0m \u001b[32m━━━━━━━━━━━━━━━━━━━━\u001b[0m\u001b[37m\u001b[0m \u001b[1m41s\u001b[0m 263ms/step - accuracy: 0.7359 - loss: 0.5360 - val_accuracy: 0.9051 - val_loss: 0.2319\n",
      "Epoch 2/100\n",
      "\u001b[1m147/147\u001b[0m \u001b[32m━━━━━━━━━━━━━━━━━━━━\u001b[0m\u001b[37m\u001b[0m \u001b[1m30s\u001b[0m 201ms/step - accuracy: 0.9272 - loss: 0.1973 - val_accuracy: 0.8752 - val_loss: 0.2835\n",
      "Epoch 3/100\n",
      "\u001b[1m147/147\u001b[0m \u001b[32m━━━━━━━━━━━━━━━━━━━━\u001b[0m\u001b[37m\u001b[0m \u001b[1m34s\u001b[0m 233ms/step - accuracy: 0.9309 - loss: 0.1691 - val_accuracy: 0.9350 - val_loss: 0.1747\n",
      "Epoch 4/100\n",
      "\u001b[1m147/147\u001b[0m \u001b[32m━━━━━━━━━━━━━━━━━━━━\u001b[0m\u001b[37m\u001b[0m \u001b[1m29s\u001b[0m 193ms/step - accuracy: 0.9523 - loss: 0.1218 - val_accuracy: 0.9197 - val_loss: 0.2390\n",
      "Epoch 5/100\n",
      "\u001b[1m147/147\u001b[0m \u001b[32m━━━━━━━━━━━━━━━━━━━━\u001b[0m\u001b[37m\u001b[0m \u001b[1m34s\u001b[0m 230ms/step - accuracy: 0.9496 - loss: 0.1280 - val_accuracy: 0.9299 - val_loss: 0.1873\n",
      "Epoch 6/100\n",
      "\u001b[1m147/147\u001b[0m \u001b[32m━━━━━━━━━━━━━━━━━━━━\u001b[0m\u001b[37m\u001b[0m \u001b[1m35s\u001b[0m 239ms/step - accuracy: 0.9559 - loss: 0.1140 - val_accuracy: 0.9342 - val_loss: 0.1898\n",
      "Epoch 7/100\n",
      "\u001b[1m147/147\u001b[0m \u001b[32m━━━━━━━━━━━━━━━━━━━━\u001b[0m\u001b[37m\u001b[0m \u001b[1m33s\u001b[0m 223ms/step - accuracy: 0.9617 - loss: 0.1052 - val_accuracy: 0.9402 - val_loss: 0.2068\n",
      "Epoch 8/100\n",
      "\u001b[1m147/147\u001b[0m \u001b[32m━━━━━━━━━━━━━━━━━━━━\u001b[0m\u001b[37m\u001b[0m \u001b[1m35s\u001b[0m 234ms/step - accuracy: 0.9648 - loss: 0.0853 - val_accuracy: 0.9410 - val_loss: 0.1677\n",
      "Epoch 9/100\n",
      "\u001b[1m147/147\u001b[0m \u001b[32m━━━━━━━━━━━━━━━━━━━━\u001b[0m\u001b[37m\u001b[0m \u001b[1m33s\u001b[0m 221ms/step - accuracy: 0.9718 - loss: 0.0714 - val_accuracy: 0.9299 - val_loss: 0.2018\n",
      "Epoch 10/100\n",
      "\u001b[1m147/147\u001b[0m \u001b[32m━━━━━━━━━━━━━━━━━━━━\u001b[0m\u001b[37m\u001b[0m \u001b[1m30s\u001b[0m 204ms/step - accuracy: 0.9730 - loss: 0.0597 - val_accuracy: 0.9376 - val_loss: 0.2025\n",
      "Epoch 11/100\n",
      "\u001b[1m147/147\u001b[0m \u001b[32m━━━━━━━━━━━━━━━━━━━━\u001b[0m\u001b[37m\u001b[0m \u001b[1m30s\u001b[0m 203ms/step - accuracy: 0.9705 - loss: 0.0691 - val_accuracy: 0.9402 - val_loss: 0.1904\n",
      "Epoch 12/100\n",
      "\u001b[1m147/147\u001b[0m \u001b[32m━━━━━━━━━━━━━━━━━━━━\u001b[0m\u001b[37m\u001b[0m \u001b[1m33s\u001b[0m 221ms/step - accuracy: 0.9842 - loss: 0.0446 - val_accuracy: 0.9402 - val_loss: 0.2446\n",
      "Epoch 13/100\n",
      "\u001b[1m147/147\u001b[0m \u001b[32m━━━━━━━━━━━━━━━━━━━━\u001b[0m\u001b[37m\u001b[0m \u001b[1m37s\u001b[0m 251ms/step - accuracy: 0.9808 - loss: 0.0476 - val_accuracy: 0.9274 - val_loss: 0.2633\n",
      "Epoch 14/100\n",
      "\u001b[1m147/147\u001b[0m \u001b[32m━━━━━━━━━━━━━━━━━━━━\u001b[0m\u001b[37m\u001b[0m \u001b[1m34s\u001b[0m 232ms/step - accuracy: 0.9738 - loss: 0.0571 - val_accuracy: 0.9325 - val_loss: 0.2466\n",
      "Epoch 15/100\n",
      "\u001b[1m147/147\u001b[0m \u001b[32m━━━━━━━━━━━━━━━━━━━━\u001b[0m\u001b[37m\u001b[0m \u001b[1m35s\u001b[0m 235ms/step - accuracy: 0.9861 - loss: 0.0370 - val_accuracy: 0.9444 - val_loss: 0.3484\n",
      "Epoch 16/100\n",
      "\u001b[1m147/147\u001b[0m \u001b[32m━━━━━━━━━━━━━━━━━━━━\u001b[0m\u001b[37m\u001b[0m \u001b[1m35s\u001b[0m 237ms/step - accuracy: 0.9747 - loss: 0.0702 - val_accuracy: 0.9385 - val_loss: 0.2814\n",
      "Epoch 17/100\n",
      "\u001b[1m147/147\u001b[0m \u001b[32m━━━━━━━━━━━━━━━━━━━━\u001b[0m\u001b[37m\u001b[0m \u001b[1m34s\u001b[0m 230ms/step - accuracy: 0.9832 - loss: 0.0437 - val_accuracy: 0.9385 - val_loss: 0.3122\n",
      "Epoch 18/100\n",
      "\u001b[1m147/147\u001b[0m \u001b[32m━━━━━━━━━━━━━━━━━━━━\u001b[0m\u001b[37m\u001b[0m \u001b[1m34s\u001b[0m 233ms/step - accuracy: 0.9924 - loss: 0.0208 - val_accuracy: 0.9350 - val_loss: 0.2567\n"
     ]
    }
   ],
   "source": [
    "history = model.fit(\n",
    "    train_generator,\n",
    "    epochs=100,\n",
    "    validation_data=validation_generator,\n",
    "    class_weight=class_weights_dict,\n",
    "    callbacks=[checkpoint, early_stopping]\n",
    ")"
   ]
  }
 ],
 "metadata": {
  "kernelspec": {
   "display_name": ".venv",
   "language": "python",
   "name": "python3"
  },
  "language_info": {
   "codemirror_mode": {
    "name": "ipython",
    "version": 3
   },
   "file_extension": ".py",
   "mimetype": "text/x-python",
   "name": "python",
   "nbconvert_exporter": "python",
   "pygments_lexer": "ipython3",
   "version": "3.12.3"
  }
 },
 "nbformat": 4,
 "nbformat_minor": 2
}
